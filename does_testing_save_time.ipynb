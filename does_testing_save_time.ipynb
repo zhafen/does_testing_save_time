{
 "cells": [
  {
   "cell_type": "markdown",
   "metadata": {},
   "source": [
    "# Does Testing Save Time?"
   ]
  },
  {
   "cell_type": "markdown",
   "metadata": {},
   "source": [
    "$T = r_{\\rm code} l + r_{\\rm test} l + t_{\\rm DB}$,\n",
    "where\n",
    "* $T \\equiv$ total time spent coding\n",
    "* $l \\equiv$ number of lines of code\n",
    "* $r_{\\rm code} \\equiv$ time spent writing the code itself per line of code\n",
    "* $r_{\\rm test} \\equiv$ time spent writing the testing code per line of code\n",
    "* $t_{\\rm DB} \\equiv$ time spent debugging"
   ]
  },
  {
   "cell_type": "markdown",
   "metadata": {},
   "source": [
    "### Time spent Debugging\n",
    "\n",
    "Let's breakdown that last term a little more..."
   ]
  },
  {
   "cell_type": "markdown",
   "metadata": {},
   "source": [
    "$t_{\\rm DB} = n_l t_l + n_m t_m$, where\n",
    "* $n_l \\equiv$ number of bugs that are easily locatable\n",
    "* $t_l \\equiv$ time spent fixing an easily locatable bug\n",
    "* $n_m \\equiv$ number of bugs that are in a mysterious, hard-to-find location\n",
    "* $t_m \\equiv$ time spent fixing a hard-to-find bug"
   ]
  },
  {
   "cell_type": "markdown",
   "metadata": {},
   "source": [
    "With a bit of re-ordering this becomes\n",
    "\n",
    "$t_{\\rm DB} = n_{\\rm caught} t_l ( 1 + f_m \\frac{( t_m - t_l )}{t_l} )$, where\n",
    "* $n_{\\rm caught} \\equiv$ number of bugs caught\n",
    "* $f_m \\equiv$ fraction of bugs that are in a mystery location."
   ]
  },
  {
   "cell_type": "markdown",
   "metadata": {},
   "source": [
    "Finally we can break down $n_{\\rm caught}$ into\n",
    "\n",
    "$n_{\\rm caught} \\equiv f_{c} n = f_{c} e l$, where\n",
    "* $f_{c} \\equiv$ the fraction of bugs that are caught,\n",
    "* $n \\equiv$ total number of bugs in the code\n",
    "* $e \\equiv$ number of bugs per line of code "
   ]
  },
  {
   "cell_type": "markdown",
   "metadata": {},
   "source": [
    "Therefore\n",
    "\n",
    "$t_{\\rm DB} = l f_c e t_l ( 1 + f_m \\frac{( t_m - t_l )}{t_l} )$"
   ]
  },
  {
   "cell_type": "markdown",
   "metadata": {},
   "source": [
    "## Final parametrized form to explore"
   ]
  },
  {
   "cell_type": "markdown",
   "metadata": {},
   "source": [
    "Putting everything together, we get\n",
    "\n",
    "$T/l = r_{\\rm code} + r_{\\rm test} + f_c e t_l ( 1 + f_m \\frac{( t_m - t_l )}{t_l} )$"
   ]
  },
  {
   "cell_type": "markdown",
   "metadata": {},
   "source": [
    "When we do/don't do testing we can expect that the only values that change are $r_{\\rm test}$, $f_c$, and $f_m$.\n",
    "Therefore we can explore the ratio\n",
    "\n",
    "$T_{\\rm testing} / T_{\\rm no~testing} = (r_{\\rm code} + r_{\\rm test} + f_{c,t} e t_l ( 1 + f_{m,t} \\frac{( t_m - t_l )}{t_l} )) / (r_{\\rm code} + f_{c,n} e t_l ( 1 + f_{m,n} \\frac{( t_m - t_l )}{t_l} ))$"
   ]
  },
  {
   "cell_type": "markdown",
   "metadata": {},
   "source": [
    "## Let's actually explore the function"
   ]
  },
  {
   "cell_type": "code",
   "execution_count": 1,
   "metadata": {},
   "outputs": [],
   "source": [
    "def time_coding_per_line( r_code, r_test, e, t_l, t_m, f_c, f_m,  ):\n",
    "        \n",
    "    return r_code + r_test + f_c * e * t_l * ( 1. + f_m * ( t_m - t_l ) / t_l )"
   ]
  },
  {
   "cell_type": "code",
   "execution_count": 2,
   "metadata": {},
   "outputs": [],
   "source": [
    "def test_vs_no_test( r_code, r_test, e, t_l, t_m, f_c_test, f_m_test, f_c_notest, f_m_notest ):\n",
    "    \n",
    "    results = []\n",
    "    for f_c, f_m in zip( [ f_c_test, f_c_notest ], [ f_m_test, f_m_notest ] ):\n",
    "                \n",
    "        results.append( time_coding_per_line( r_code, r_test, e, t_l, t_m, f_c, f_m,  ) )\n",
    "        \n",
    "    return results"
   ]
  },
  {
   "cell_type": "code",
   "execution_count": 3,
   "metadata": {},
   "outputs": [],
   "source": [
    "estimated_parameters = {\n",
    "    'r_code': [],\n",
    "    'r_test': [],\n",
    "    'e': [],\n",
    "    't_l': [],\n",
    "    't_m': [],\n",
    "    'f_c_notest': [],\n",
    "    'f_m_notest': [],\n",
    "    'f_c_test': [],\n",
    "    'f_m_test': [],\n",
    "}"
   ]
  },
  {
   "cell_type": "code",
   "execution_count": 4,
   "metadata": {},
   "outputs": [],
   "source": [
    "# Reformat\n",
    "all_parameters = []\n",
    "for i in range( len( estimated_parameters['r_code'] ) ):\n",
    "    \n",
    "    parameters = {}\n",
    "    for key in estimated_parameters.keys():\n",
    "        parameters[key] = estimated_parameters[key][i]\n",
    "    \n",
    "    all_parameters.append( parameters )"
   ]
  },
  {
   "cell_type": "code",
   "execution_count": 5,
   "metadata": {},
   "outputs": [],
   "source": [
    "# Get results\n",
    "for parameters in all_parameters:\n",
    "    result = test_vs_no_test( **parameters )\n",
    "    print( '{:.2g} min per line w/ testing,   {:.2g} min per line w/o,     {:.2g} ratio'.format(\n",
    "            result[0], \n",
    "            result[1], \n",
    "            result[0]/result[1]\n",
    "        )\n",
    "    )"
   ]
  },
  {
   "cell_type": "code",
   "execution_count": null,
   "metadata": {},
   "outputs": [],
   "source": []
  }
 ],
 "metadata": {
  "kernelspec": {
   "display_name": "Python [conda env:py36]",
   "language": "python",
   "name": "conda-env-py36-py"
  },
  "language_info": {
   "codemirror_mode": {
    "name": "ipython",
    "version": 3
   },
   "file_extension": ".py",
   "mimetype": "text/x-python",
   "name": "python",
   "nbconvert_exporter": "python",
   "pygments_lexer": "ipython3",
   "version": "3.6.7"
  }
 },
 "nbformat": 4,
 "nbformat_minor": 2
}
